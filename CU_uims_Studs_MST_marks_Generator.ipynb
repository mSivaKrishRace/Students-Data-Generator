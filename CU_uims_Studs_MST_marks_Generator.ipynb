{
  "nbformat": 4,
  "nbformat_minor": 0,
  "metadata": {
    "kernelspec": {
      "display_name": "Python 3",
      "language": "python",
      "name": "python3"
    },
    "language_info": {
      "codemirror_mode": {
        "name": "ipython",
        "version": 3
      },
      "file_extension": ".py",
      "mimetype": "text/x-python",
      "name": "python",
      "nbconvert_exporter": "python",
      "pygments_lexer": "ipython3",
      "version": "3.6.5"
    },
    "colab": {
      "name": "CU_uims-Studs_MST-marks-Generation__bb.ipynb",
      "provenance": [],
      "collapsed_sections": []
    }
  },
  "cells": [
    {
      "cell_type": "markdown",
      "metadata": {
        "id": "6iXlGFpKrx68"
      },
      "source": [
        "### Checking Records those are Matching Name of Students Who are Done with Online MST's on AmCAT  & Generarting their Marks"
      ]
    },
    {
      "cell_type": "code",
      "metadata": {
        "id": "AhgQ3Znxrx7G",
        "colab": {
          "base_uri": "https://localhost:8080/"
        },
        "outputId": "b8ad5c90-286d-423e-d919-cb90e368b4bd"
      },
      "source": [
        "import pandas as pd\n",
        "import numpy as np\n",
        "import io\n",
        "from google.colab import drive\n",
        "drive.mount('/content/drive')"
      ],
      "execution_count": 3,
      "outputs": [
        {
          "output_type": "stream",
          "name": "stdout",
          "text": [
            "Drive already mounted at /content/drive; to attempt to forcibly remount, call drive.mount(\"/content/drive\", force_remount=True).\n"
          ]
        }
      ]
    },
    {
      "cell_type": "code",
      "metadata": {
        "colab": {
          "resources": {
            "http://localhost:8080/nbextensions/google.colab/files.js": {
              "data": "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",
              "ok": true,
              "headers": [
                [
                  "content-type",
                  "application/javascript"
                ]
              ],
              "status": 200,
              "status_text": ""
            }
          },
          "base_uri": "https://localhost:8080/",
          "height": 73
        },
        "id": "21lVf9NutbhD",
        "outputId": "e558727b-a09f-4986-bfd9-c5a76ba5968c"
      },
      "source": [
        "from google.colab import files\n",
        "uploaded = files.upload()\n"
      ],
      "execution_count": 2,
      "outputs": [
        {
          "output_type": "display_data",
          "data": {
            "text/html": [
              "\n",
              "     <input type=\"file\" id=\"files-1b83c7fa-8219-43c8-b86f-c0348994fb23\" name=\"files[]\" multiple disabled\n",
              "        style=\"border:none\" />\n",
              "     <output id=\"result-1b83c7fa-8219-43c8-b86f-c0348994fb23\">\n",
              "      Upload widget is only available when the cell has been executed in the\n",
              "      current browser session. Please rerun this cell to enable.\n",
              "      </output>\n",
              "      <script src=\"/nbextensions/google.colab/files.js\"></script> "
            ],
            "text/plain": [
              "<IPython.core.display.HTML object>"
            ]
          },
          "metadata": {}
        },
        {
          "output_type": "stream",
          "name": "stdout",
          "text": [
            "Saving AIT_MST_1_marks_Engg_20Java_18PA.xlsx to AIT_MST_1_marks_Engg_20Java_18PA.xlsx\n"
          ]
        }
      ]
    },
    {
      "cell_type": "code",
      "metadata": {
        "colab": {
          "base_uri": "https://localhost:8080/",
          "height": 35
        },
        "id": "-LWmrgIDuBeE",
        "outputId": "cef958b3-3e3e-4e2e-8824-1028026e965c"
      },
      "source": [
        "%pwd"
      ],
      "execution_count": 4,
      "outputs": [
        {
          "output_type": "execute_result",
          "data": {
            "application/vnd.google.colaboratory.intrinsic+json": {
              "type": "string"
            },
            "text/plain": [
              "'/content'"
            ]
          },
          "metadata": {},
          "execution_count": 4
        }
      ]
    },
    {
      "cell_type": "code",
      "metadata": {
        "id": "gLx-qhJCrx7K"
      },
      "source": [
        "# root_path = 'C:/Users/pycoder/21_All_Python/21_MST_1_marks/'"
      ],
      "execution_count": null,
      "outputs": []
    },
    {
      "cell_type": "markdown",
      "metadata": {
        "id": "0_w0iIXIrx7L"
      },
      "source": [
        "### Uploading the Source File- Marks from AmCat"
      ]
    },
    {
      "cell_type": "code",
      "metadata": {
        "id": "QSvB9WwTrx7M"
      },
      "source": [
        "MST_1_marks_All = pd.read_excel(io.BytesIO(uploaded['AIT_MST_1_marks_Engg_20Java_18PA.xlsx']))"
      ],
      "execution_count": 5,
      "outputs": []
    },
    {
      "cell_type": "code",
      "metadata": {
        "colab": {
          "resources": {
            "http://localhost:8080/nbextensions/google.colab/files.js": {
              "data": "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",
              "ok": true,
              "headers": [
                [
                  "content-type",
                  "application/javascript"
                ]
              ],
              "status": 200,
              "status_text": ""
            }
          },
          "base_uri": "https://localhost:8080/",
          "height": 106
        },
        "id": "01KcVpY8vBaG",
        "outputId": "26c0ea72-4807-489e-f749-2abe45b8e1bd"
      },
      "source": [
        "# Uploading Required files---the Destination File (Format Needed to Match Results File)\n",
        "uploaded = files.upload()"
      ],
      "execution_count": 7,
      "outputs": [
        {
          "output_type": "display_data",
          "data": {
            "text/html": [
              "\n",
              "     <input type=\"file\" id=\"files-be819e25-17fb-46c1-ac96-b74d7b9294ff\" name=\"files[]\" multiple disabled\n",
              "        style=\"border:none\" />\n",
              "     <output id=\"result-be819e25-17fb-46c1-ac96-b74d7b9294ff\">\n",
              "      Upload widget is only available when the cell has been executed in the\n",
              "      current browser session. Please rerun this cell to enable.\n",
              "      </output>\n",
              "      <script src=\"/nbextensions/google.colab/files.js\"></script> "
            ],
            "text/plain": [
              "<IPython.core.display.HTML object>"
            ]
          },
          "metadata": {}
        },
        {
          "output_type": "stream",
          "name": "stdout",
          "text": [
            "Saving Student_Marks_20CST-235_20BIS-2_G-A_MST-1.xlsx to Student_Marks_20CST-235_20BIS-2_G-A_MST-1.xlsx\n",
            "Saving Student_Marks_CSP-436_18BDA-1_G-B_Lab-MST-1.xlsx to Student_Marks_CSP-436_18BDA-1_G-B_Lab-MST-1.xlsx\n"
          ]
        }
      ]
    },
    {
      "cell_type": "markdown",
      "metadata": {
        "id": "ioQbIkh4rx7N"
      },
      "source": [
        "### Uploading Required File to which Maching Students MARKS Needed"
      ]
    },
    {
      "cell_type": "code",
      "metadata": {
        "id": "zIZWemkgrx7O"
      },
      "source": [
        "Apex20BIS_2_A = pd.read_excel(io.BytesIO(uploaded['Student_Marks_20CST-235_20BIS-2_G-A_MST-1.xlsx']))\n",
        "\n",
        "#Below is the Syntax to Do OFFLINE on Jupyter Notebook\n",
        "#Apex20BIS_2_B = pd.read_excel(root_path + 'Sections/Student_Marks_20CST-235_20BIS-2_G-B_MST-1.xlsx')\n"
      ],
      "execution_count": 10,
      "outputs": []
    },
    {
      "cell_type": "markdown",
      "metadata": {
        "id": "uPvlRKYxrx7Q"
      },
      "source": [
        "#### Checking whether Uploaded Correctly or Not"
      ]
    },
    {
      "cell_type": "code",
      "metadata": {
        "id": "KYIX9StPrx7S",
        "colab": {
          "base_uri": "https://localhost:8080/",
          "height": 203
        },
        "outputId": "8073785d-6ee2-40f0-8750-266d5e91555f"
      },
      "source": [
        "Apex20BIS_2_A.head()"
      ],
      "execution_count": 11,
      "outputs": [
        {
          "output_type": "execute_result",
          "data": {
            "text/html": [
              "<div>\n",
              "<style scoped>\n",
              "    .dataframe tbody tr th:only-of-type {\n",
              "        vertical-align: middle;\n",
              "    }\n",
              "\n",
              "    .dataframe tbody tr th {\n",
              "        vertical-align: top;\n",
              "    }\n",
              "\n",
              "    .dataframe thead th {\n",
              "        text-align: right;\n",
              "    }\n",
              "</style>\n",
              "<table border=\"1\" class=\"dataframe\">\n",
              "  <thead>\n",
              "    <tr style=\"text-align: right;\">\n",
              "      <th></th>\n",
              "      <th>StudentName</th>\n",
              "      <th>ProgramCode</th>\n",
              "      <th>UID</th>\n",
              "      <th>Section</th>\n",
              "      <th>CourseCode</th>\n",
              "      <th>ExamType</th>\n",
              "      <th>CourseOutComeShortName</th>\n",
              "      <th>MaxMarks</th>\n",
              "      <th>MarkObtd</th>\n",
              "    </tr>\n",
              "  </thead>\n",
              "  <tbody>\n",
              "    <tr>\n",
              "      <th>0</th>\n",
              "      <td>LAKHAN PARASHAR</td>\n",
              "      <td>CS205</td>\n",
              "      <td>20BCS3643</td>\n",
              "      <td>20BIS-2</td>\n",
              "      <td>20CST-235</td>\n",
              "      <td>Mid-Semester Test-1</td>\n",
              "      <td>CO1</td>\n",
              "      <td>20</td>\n",
              "      <td>NaN</td>\n",
              "    </tr>\n",
              "    <tr>\n",
              "      <th>1</th>\n",
              "      <td>AAYUSH SOMANKAR</td>\n",
              "      <td>CS205</td>\n",
              "      <td>20BCS3641</td>\n",
              "      <td>20BIS-2</td>\n",
              "      <td>20CST-235</td>\n",
              "      <td>Mid-Semester Test-1</td>\n",
              "      <td>CO1</td>\n",
              "      <td>20</td>\n",
              "      <td>NaN</td>\n",
              "    </tr>\n",
              "    <tr>\n",
              "      <th>2</th>\n",
              "      <td>SHARMA RITESH MANOJ</td>\n",
              "      <td>CS205</td>\n",
              "      <td>20BCS3638</td>\n",
              "      <td>20BIS-2</td>\n",
              "      <td>20CST-235</td>\n",
              "      <td>Mid-Semester Test-1</td>\n",
              "      <td>CO1</td>\n",
              "      <td>20</td>\n",
              "      <td>NaN</td>\n",
              "    </tr>\n",
              "    <tr>\n",
              "      <th>3</th>\n",
              "      <td>RAKSHITA PRADHAN</td>\n",
              "      <td>CS205</td>\n",
              "      <td>20BCS3679</td>\n",
              "      <td>20BIS-2</td>\n",
              "      <td>20CST-235</td>\n",
              "      <td>Mid-Semester Test-1</td>\n",
              "      <td>CO1</td>\n",
              "      <td>20</td>\n",
              "      <td>NaN</td>\n",
              "    </tr>\n",
              "    <tr>\n",
              "      <th>4</th>\n",
              "      <td>Deeptesh Jyoti</td>\n",
              "      <td>CS205</td>\n",
              "      <td>20BCS3645</td>\n",
              "      <td>20BIS-2</td>\n",
              "      <td>20CST-235</td>\n",
              "      <td>Mid-Semester Test-1</td>\n",
              "      <td>CO1</td>\n",
              "      <td>20</td>\n",
              "      <td>NaN</td>\n",
              "    </tr>\n",
              "  </tbody>\n",
              "</table>\n",
              "</div>"
            ],
            "text/plain": [
              "           StudentName ProgramCode  ... MaxMarks MarkObtd\n",
              "0      LAKHAN PARASHAR       CS205  ...       20      NaN\n",
              "1      AAYUSH SOMANKAR       CS205  ...       20      NaN\n",
              "2  SHARMA RITESH MANOJ       CS205  ...       20      NaN\n",
              "3     RAKSHITA PRADHAN       CS205  ...       20      NaN\n",
              "4       Deeptesh Jyoti       CS205  ...       20      NaN\n",
              "\n",
              "[5 rows x 9 columns]"
            ]
          },
          "metadata": {},
          "execution_count": 11
        }
      ]
    },
    {
      "cell_type": "code",
      "metadata": {
        "id": "G4r453uarx7V",
        "colab": {
          "base_uri": "https://localhost:8080/"
        },
        "outputId": "460d844f-8184-46a5-ac8b-0387fb88aacb"
      },
      "source": [
        "type(Apex20BIS_2_A)"
      ],
      "execution_count": 12,
      "outputs": [
        {
          "output_type": "execute_result",
          "data": {
            "text/plain": [
              "pandas.core.frame.DataFrame"
            ]
          },
          "metadata": {},
          "execution_count": 12
        }
      ]
    },
    {
      "cell_type": "code",
      "metadata": {
        "id": "Vyphq-mRrx7X",
        "colab": {
          "base_uri": "https://localhost:8080/"
        },
        "outputId": "0d83a4f3-e00d-476b-bd3b-95860e3853d4"
      },
      "source": [
        "Apex20BIS_2_A.columns"
      ],
      "execution_count": 13,
      "outputs": [
        {
          "output_type": "execute_result",
          "data": {
            "text/plain": [
              "Index(['StudentName', 'ProgramCode', 'UID', 'Section', 'CourseCode',\n",
              "       'ExamType', 'CourseOutComeShortName', 'MaxMarks', 'MarkObtd'],\n",
              "      dtype='object')"
            ]
          },
          "metadata": {},
          "execution_count": 13
        }
      ]
    },
    {
      "cell_type": "code",
      "metadata": {
        "id": "K_DtXlyWrx7Y",
        "colab": {
          "base_uri": "https://localhost:8080/"
        },
        "outputId": "b0c007fc-bd6e-4565-a409-146e957a0108"
      },
      "source": [
        "Apex20BIS_2_A['UID'].head()"
      ],
      "execution_count": 14,
      "outputs": [
        {
          "output_type": "execute_result",
          "data": {
            "text/plain": [
              "0    20BCS3643\n",
              "1    20BCS3641\n",
              "2    20BCS3638\n",
              "3    20BCS3679\n",
              "4    20BCS3645\n",
              "Name: UID, dtype: object"
            ]
          },
          "metadata": {},
          "execution_count": 14
        }
      ]
    },
    {
      "cell_type": "markdown",
      "metadata": {
        "id": "zwEef6fUrx7Z"
      },
      "source": [
        "#### Checking for Successful Upload of Marks - file"
      ]
    },
    {
      "cell_type": "code",
      "metadata": {
        "id": "O_zN69Uurx7a",
        "colab": {
          "base_uri": "https://localhost:8080/",
          "height": 203
        },
        "outputId": "2d8852a1-c8ca-4ca9-9b8f-7329e313095d"
      },
      "source": [
        "MST_1_marks_All.head()"
      ],
      "execution_count": 6,
      "outputs": [
        {
          "output_type": "execute_result",
          "data": {
            "text/html": [
              "<div>\n",
              "<style scoped>\n",
              "    .dataframe tbody tr th:only-of-type {\n",
              "        vertical-align: middle;\n",
              "    }\n",
              "\n",
              "    .dataframe tbody tr th {\n",
              "        vertical-align: top;\n",
              "    }\n",
              "\n",
              "    .dataframe thead th {\n",
              "        text-align: right;\n",
              "    }\n",
              "</style>\n",
              "<table border=\"1\" class=\"dataframe\">\n",
              "  <thead>\n",
              "    <tr style=\"text-align: right;\">\n",
              "      <th></th>\n",
              "      <th>User Name</th>\n",
              "      <th>cluster</th>\n",
              "      <th>Prog Code</th>\n",
              "      <th>Prog Name</th>\n",
              "      <th>UID</th>\n",
              "      <th>Assessment Name</th>\n",
              "      <th>CO1</th>\n",
              "      <th>CO2</th>\n",
              "      <th>CO3</th>\n",
              "      <th>CO4</th>\n",
              "      <th>CO5</th>\n",
              "      <th>Total</th>\n",
              "    </tr>\n",
              "  </thead>\n",
              "  <tbody>\n",
              "    <tr>\n",
              "      <th>0</th>\n",
              "      <td>18BAM1036@cuchd.in_suj</td>\n",
              "      <td>Engineering (Non CSE , AIT and UIC)</td>\n",
              "      <td>AE201</td>\n",
              "      <td>Bachelor of Engineering- Automobile Engineering</td>\n",
              "      <td>18BAM1036</td>\n",
              "      <td>MST1_AEY-311_IEM</td>\n",
              "      <td>0</td>\n",
              "      <td>27</td>\n",
              "      <td>5</td>\n",
              "      <td>0</td>\n",
              "      <td>23</td>\n",
              "      <td>55</td>\n",
              "    </tr>\n",
              "    <tr>\n",
              "      <th>1</th>\n",
              "      <td>19BAM1019@cuchd.in_sdd2</td>\n",
              "      <td>Engineering (Non CSE , AIT and UIC)</td>\n",
              "      <td>AE201</td>\n",
              "      <td>Bachelor of Engineering- Automobile Engineering</td>\n",
              "      <td>19BAM1019</td>\n",
              "      <td>MST1_aet-322_DAC</td>\n",
              "      <td>0</td>\n",
              "      <td>17</td>\n",
              "      <td>14</td>\n",
              "      <td>0</td>\n",
              "      <td>24</td>\n",
              "      <td>55</td>\n",
              "    </tr>\n",
              "    <tr>\n",
              "      <th>2</th>\n",
              "      <td>19BAM1036@cuchd.in_sv5c</td>\n",
              "      <td>Engineering (Non CSE , AIT and UIC)</td>\n",
              "      <td>AE201</td>\n",
              "      <td>Bachelor of Engineering- Automobile Engineering</td>\n",
              "      <td>19BAM1036</td>\n",
              "      <td>MST1_aet-322_DAC</td>\n",
              "      <td>0</td>\n",
              "      <td>18</td>\n",
              "      <td>7</td>\n",
              "      <td>0</td>\n",
              "      <td>27</td>\n",
              "      <td>52</td>\n",
              "    </tr>\n",
              "    <tr>\n",
              "      <th>3</th>\n",
              "      <td>19BAM1015@cuchd.in_o83j</td>\n",
              "      <td>Engineering (Non CSE , AIT and UIC)</td>\n",
              "      <td>AE201</td>\n",
              "      <td>Bachelor of Engineering- Automobile Engineering</td>\n",
              "      <td>19BAM1015</td>\n",
              "      <td>MST1_aet-322_DAC</td>\n",
              "      <td>0</td>\n",
              "      <td>9</td>\n",
              "      <td>4</td>\n",
              "      <td>0</td>\n",
              "      <td>11</td>\n",
              "      <td>24</td>\n",
              "    </tr>\n",
              "    <tr>\n",
              "      <th>4</th>\n",
              "      <td>18BAM1016@cuchd.in_3rx8</td>\n",
              "      <td>Engineering (Non CSE , AIT and UIC)</td>\n",
              "      <td>AE201</td>\n",
              "      <td>Bachelor of Engineering- Automobile Engineering</td>\n",
              "      <td>18BAM1016</td>\n",
              "      <td>MST1_AEY-311_IEM</td>\n",
              "      <td>0</td>\n",
              "      <td>47</td>\n",
              "      <td>3</td>\n",
              "      <td>0</td>\n",
              "      <td>3</td>\n",
              "      <td>53</td>\n",
              "    </tr>\n",
              "  </tbody>\n",
              "</table>\n",
              "</div>"
            ],
            "text/plain": [
              "                 User Name                              cluster  ... CO5 Total\n",
              "0   18BAM1036@cuchd.in_suj  Engineering (Non CSE , AIT and UIC)  ...  23    55\n",
              "1  19BAM1019@cuchd.in_sdd2  Engineering (Non CSE , AIT and UIC)  ...  24    55\n",
              "2  19BAM1036@cuchd.in_sv5c  Engineering (Non CSE , AIT and UIC)  ...  27    52\n",
              "3  19BAM1015@cuchd.in_o83j  Engineering (Non CSE , AIT and UIC)  ...  11    24\n",
              "4  18BAM1016@cuchd.in_3rx8  Engineering (Non CSE , AIT and UIC)  ...   3    53\n",
              "\n",
              "[5 rows x 12 columns]"
            ]
          },
          "metadata": {},
          "execution_count": 6
        }
      ]
    },
    {
      "cell_type": "markdown",
      "metadata": {
        "id": "PsRIWWhBrx7b"
      },
      "source": [
        "#### Checking the Size of Dataframes that are to be compared"
      ]
    },
    {
      "cell_type": "code",
      "metadata": {
        "id": "-42aXdpsrx7b",
        "colab": {
          "base_uri": "https://localhost:8080/"
        },
        "outputId": "bfe4ba3e-2d84-4f3b-ba34-8ec59df995ee"
      },
      "source": [
        "len(Apex20BIS_2_A), len(MST_1_marks_All)"
      ],
      "execution_count": 18,
      "outputs": [
        {
          "output_type": "execute_result",
          "data": {
            "text/plain": [
              "(64, 28994)"
            ]
          },
          "metadata": {},
          "execution_count": 18
        }
      ]
    },
    {
      "cell_type": "markdown",
      "metadata": {
        "id": "cQJDMP0qrx7d"
      },
      "source": [
        "# Selecting Subject related Data \n",
        "    - from \"Assessment Name\" Column\n",
        "\n",
        "1. MST1_20CST-235_Programming in Java\n",
        "2. MST1_CST-436_Planning Analytics"
      ]
    },
    {
      "cell_type": "code",
      "metadata": {
        "id": "vWraSw1arx7e"
      },
      "source": [
        "# Using lambda function\n",
        "Mst_1_Prog_in_JAVA_marks = MST_1_marks_All.apply(lambda row: row[MST_1_marks_All['Assessment Name'].isin(['MST1_20CST-235_Programming in Java'])])\n"
      ],
      "execution_count": 20,
      "outputs": []
    },
    {
      "cell_type": "code",
      "metadata": {
        "id": "P0AOevBnrx7f",
        "colab": {
          "base_uri": "https://localhost:8080/"
        },
        "outputId": "25f43ae3-9617-48d5-dfd1-49ca7862e094"
      },
      "source": [
        "len(Mst_1_Prog_in_JAVA_marks)"
      ],
      "execution_count": 22,
      "outputs": [
        {
          "output_type": "execute_result",
          "data": {
            "text/plain": [
              "1015"
            ]
          },
          "metadata": {},
          "execution_count": 22
        }
      ]
    },
    {
      "cell_type": "markdown",
      "metadata": {
        "id": "W1uQMwp3rx7g"
      },
      "source": [
        "## Cropping Data Section Wise \n",
        "    - from \"Prog Code\" Column\n",
        "\n",
        "1. BIS Section --> Program Code --> \n",
        "      * A:-- \"CS205\"        * B:-- \"CS215\", \"CS205\"\n",
        "2. BIT Section --> Program Code -->  \n",
        "      * A:-- \"CS222\"        * B:-- \"CS217\", \"CS222\"       \n",
        "3. MST1_CST-436_Planning Analytics\n",
        "      * A:-- \"CS206\"        * B:-- \"CS206\""
      ]
    },
    {
      "cell_type": "code",
      "metadata": {
        "id": "Bu6bMqe2rx7h"
      },
      "source": [
        "# Using lambda function\n",
        "Mst_1_JAVA_BIS_BIT_Secs_marks = Mst_1_Prog_in_JAVA_marks.apply(lambda row: row[MST_1_marks_All['Prog Code'].isin(['CS205','CS215','CS217','CS222'])])"
      ],
      "execution_count": 23,
      "outputs": []
    },
    {
      "cell_type": "code",
      "metadata": {
        "id": "PbfnhoMYrx7i",
        "colab": {
          "base_uri": "https://localhost:8080/"
        },
        "outputId": "8f6adf96-5220-44eb-b603-8fd96e430110"
      },
      "source": [
        "len(Mst_1_JAVA_BIS_BIT_Secs_marks)"
      ],
      "execution_count": 24,
      "outputs": [
        {
          "output_type": "execute_result",
          "data": {
            "text/plain": [
              "193"
            ]
          },
          "metadata": {},
          "execution_count": 24
        }
      ]
    },
    {
      "cell_type": "markdown",
      "metadata": {
        "id": "DyBYiVQJrx7j"
      },
      "source": [
        "##### percentage of 'Total_Marks' column \n",
        "   - using df.assign()\n",
        "   - df = df.assign(Percentage = lambda x: (x['Total_Marks'] /500 * 100))\n"
      ]
    },
    {
      "cell_type": "code",
      "metadata": {
        "id": "YU6GD-Murx7k"
      },
      "source": [
        "Mst_1_JAVA_BIS_BIT_Secs_marks = Mst_1_JAVA_BIS_BIT_Secs_marks.assign(Scale_to_40 = lambda x: (x['Total']/4))"
      ],
      "execution_count": 27,
      "outputs": []
    },
    {
      "cell_type": "code",
      "metadata": {
        "id": "snKBIKBwrx7l"
      },
      "source": [
        "## Run this Code if Required to Sum-Up the Values\n",
        "#Mst_1_JAVA_BIS_BIT_Secs_marks = Mst_1_JAVA_BIS_BIT_Secs_marks['Scale_to_40'].apply(np.ceil)\n",
        "#Mst_1_Plan_Analytics_marks = Mst_1_Plan_Analytics_marks['Scale_to_40'].apply(np.ceil)"
      ],
      "execution_count": 26,
      "outputs": []
    },
    {
      "cell_type": "code",
      "metadata": {
        "id": "3qeJJymCrx7m",
        "colab": {
          "base_uri": "https://localhost:8080/"
        },
        "outputId": "8510a91e-67f0-4671-b009-b066741dd70c"
      },
      "source": [
        "Mst_1_JAVA_BIS_BIT_Secs_marks.columns"
      ],
      "execution_count": 28,
      "outputs": [
        {
          "output_type": "execute_result",
          "data": {
            "text/plain": [
              "Index(['User Name', 'cluster', 'Prog Code', 'Prog Name', 'UID',\n",
              "       'Assessment Name', 'CO1', 'CO2', 'CO3', 'CO4', 'CO5', 'Total',\n",
              "       'Scale_to_40'],\n",
              "      dtype='object')"
            ]
          },
          "metadata": {},
          "execution_count": 28
        }
      ]
    },
    {
      "cell_type": "markdown",
      "metadata": {
        "id": "Il6rgXW4rx7n"
      },
      "source": [
        "#### Dropping All Other Columns"
      ]
    },
    {
      "cell_type": "code",
      "metadata": {
        "id": "9tL7YhVPrx7n"
      },
      "source": [
        "Mst_1_JAVA_BIS_BIT_Secs_marks = Mst_1_JAVA_BIS_BIT_Secs_marks.drop(['User Name', 'cluster', 'Prog Code', 'Prog Name',\n",
        "       'Assessment Name', 'CO1', 'CO2', 'CO3', 'CO4', 'CO5', 'Total'], axis='columns')"
      ],
      "execution_count": 29,
      "outputs": []
    },
    {
      "cell_type": "code",
      "metadata": {
        "id": "WZ41Vuimrx7o",
        "colab": {
          "base_uri": "https://localhost:8080/",
          "height": 203
        },
        "outputId": "fdfb5e1c-4385-4393-f73b-b9028e726d87"
      },
      "source": [
        "Mst_1_JAVA_BIS_BIT_Secs_marks.head()"
      ],
      "execution_count": 30,
      "outputs": [
        {
          "output_type": "execute_result",
          "data": {
            "text/html": [
              "<div>\n",
              "<style scoped>\n",
              "    .dataframe tbody tr th:only-of-type {\n",
              "        vertical-align: middle;\n",
              "    }\n",
              "\n",
              "    .dataframe tbody tr th {\n",
              "        vertical-align: top;\n",
              "    }\n",
              "\n",
              "    .dataframe thead th {\n",
              "        text-align: right;\n",
              "    }\n",
              "</style>\n",
              "<table border=\"1\" class=\"dataframe\">\n",
              "  <thead>\n",
              "    <tr style=\"text-align: right;\">\n",
              "      <th></th>\n",
              "      <th>UID</th>\n",
              "      <th>Scale_to_40</th>\n",
              "    </tr>\n",
              "  </thead>\n",
              "  <tbody>\n",
              "    <tr>\n",
              "      <th>13287</th>\n",
              "      <td>20BCS3585</td>\n",
              "      <td>18.50</td>\n",
              "    </tr>\n",
              "    <tr>\n",
              "      <th>13288</th>\n",
              "      <td>20BCS3700</td>\n",
              "      <td>16.75</td>\n",
              "    </tr>\n",
              "    <tr>\n",
              "      <th>13289</th>\n",
              "      <td>20BCS3659</td>\n",
              "      <td>16.50</td>\n",
              "    </tr>\n",
              "    <tr>\n",
              "      <th>13290</th>\n",
              "      <td>20BCS3695</td>\n",
              "      <td>15.25</td>\n",
              "    </tr>\n",
              "    <tr>\n",
              "      <th>13291</th>\n",
              "      <td>20BCS3551</td>\n",
              "      <td>17.75</td>\n",
              "    </tr>\n",
              "  </tbody>\n",
              "</table>\n",
              "</div>"
            ],
            "text/plain": [
              "             UID  Scale_to_40\n",
              "13287  20BCS3585        18.50\n",
              "13288  20BCS3700        16.75\n",
              "13289  20BCS3659        16.50\n",
              "13290  20BCS3695        15.25\n",
              "13291  20BCS3551        17.75"
            ]
          },
          "metadata": {},
          "execution_count": 30
        }
      ]
    },
    {
      "cell_type": "markdown",
      "metadata": {
        "id": "ef_4E5Hqrx7p"
      },
      "source": [
        "#### performing INNER_JOIN on the both Dataframes"
      ]
    },
    {
      "cell_type": "code",
      "metadata": {
        "id": "J1ew6S2Arx7q"
      },
      "source": [
        "Apex20BIS_2_A_marks = Apex20BIS_2_A.merge(Mst_1_JAVA_BIS_BIT_Secs_marks, left_on='UID', right_on='UID', how='inner')"
      ],
      "execution_count": 31,
      "outputs": []
    },
    {
      "cell_type": "code",
      "metadata": {
        "id": "63-3bSHNrx7q",
        "colab": {
          "base_uri": "https://localhost:8080/",
          "height": 203
        },
        "outputId": "0dd3637a-f8ee-4038-9012-2cc512f38ea2"
      },
      "source": [
        "Apex20BIS_2_A_marks.head()"
      ],
      "execution_count": 32,
      "outputs": [
        {
          "output_type": "execute_result",
          "data": {
            "text/html": [
              "<div>\n",
              "<style scoped>\n",
              "    .dataframe tbody tr th:only-of-type {\n",
              "        vertical-align: middle;\n",
              "    }\n",
              "\n",
              "    .dataframe tbody tr th {\n",
              "        vertical-align: top;\n",
              "    }\n",
              "\n",
              "    .dataframe thead th {\n",
              "        text-align: right;\n",
              "    }\n",
              "</style>\n",
              "<table border=\"1\" class=\"dataframe\">\n",
              "  <thead>\n",
              "    <tr style=\"text-align: right;\">\n",
              "      <th></th>\n",
              "      <th>StudentName</th>\n",
              "      <th>ProgramCode</th>\n",
              "      <th>UID</th>\n",
              "      <th>Section</th>\n",
              "      <th>CourseCode</th>\n",
              "      <th>ExamType</th>\n",
              "      <th>CourseOutComeShortName</th>\n",
              "      <th>MaxMarks</th>\n",
              "      <th>MarkObtd</th>\n",
              "      <th>Scale_to_40</th>\n",
              "    </tr>\n",
              "  </thead>\n",
              "  <tbody>\n",
              "    <tr>\n",
              "      <th>0</th>\n",
              "      <td>LAKHAN PARASHAR</td>\n",
              "      <td>CS205</td>\n",
              "      <td>20BCS3643</td>\n",
              "      <td>20BIS-2</td>\n",
              "      <td>20CST-235</td>\n",
              "      <td>Mid-Semester Test-1</td>\n",
              "      <td>CO1</td>\n",
              "      <td>20</td>\n",
              "      <td>NaN</td>\n",
              "      <td>3.75</td>\n",
              "    </tr>\n",
              "    <tr>\n",
              "      <th>1</th>\n",
              "      <td>LAKHAN PARASHAR</td>\n",
              "      <td>CS205</td>\n",
              "      <td>20BCS3643</td>\n",
              "      <td>20BIS-2</td>\n",
              "      <td>20CST-235</td>\n",
              "      <td>Mid-Semester Test-1</td>\n",
              "      <td>CO1</td>\n",
              "      <td>20</td>\n",
              "      <td>NaN</td>\n",
              "      <td>19.25</td>\n",
              "    </tr>\n",
              "    <tr>\n",
              "      <th>2</th>\n",
              "      <td>LAKHAN PARASHAR</td>\n",
              "      <td>CS205</td>\n",
              "      <td>20BCS3643</td>\n",
              "      <td>20BIS-2</td>\n",
              "      <td>20CST-235</td>\n",
              "      <td>Mid-Semester Test-1</td>\n",
              "      <td>CO2</td>\n",
              "      <td>20</td>\n",
              "      <td>NaN</td>\n",
              "      <td>3.75</td>\n",
              "    </tr>\n",
              "    <tr>\n",
              "      <th>3</th>\n",
              "      <td>LAKHAN PARASHAR</td>\n",
              "      <td>CS205</td>\n",
              "      <td>20BCS3643</td>\n",
              "      <td>20BIS-2</td>\n",
              "      <td>20CST-235</td>\n",
              "      <td>Mid-Semester Test-1</td>\n",
              "      <td>CO2</td>\n",
              "      <td>20</td>\n",
              "      <td>NaN</td>\n",
              "      <td>19.25</td>\n",
              "    </tr>\n",
              "    <tr>\n",
              "      <th>4</th>\n",
              "      <td>AAYUSH SOMANKAR</td>\n",
              "      <td>CS205</td>\n",
              "      <td>20BCS3641</td>\n",
              "      <td>20BIS-2</td>\n",
              "      <td>20CST-235</td>\n",
              "      <td>Mid-Semester Test-1</td>\n",
              "      <td>CO1</td>\n",
              "      <td>20</td>\n",
              "      <td>NaN</td>\n",
              "      <td>15.50</td>\n",
              "    </tr>\n",
              "  </tbody>\n",
              "</table>\n",
              "</div>"
            ],
            "text/plain": [
              "       StudentName ProgramCode        UID  ... MaxMarks MarkObtd Scale_to_40\n",
              "0  LAKHAN PARASHAR       CS205  20BCS3643  ...       20      NaN        3.75\n",
              "1  LAKHAN PARASHAR       CS205  20BCS3643  ...       20      NaN       19.25\n",
              "2  LAKHAN PARASHAR       CS205  20BCS3643  ...       20      NaN        3.75\n",
              "3  LAKHAN PARASHAR       CS205  20BCS3643  ...       20      NaN       19.25\n",
              "4  AAYUSH SOMANKAR       CS205  20BCS3641  ...       20      NaN       15.50\n",
              "\n",
              "[5 rows x 10 columns]"
            ]
          },
          "metadata": {},
          "execution_count": 32
        }
      ]
    },
    {
      "cell_type": "markdown",
      "metadata": {
        "id": "EOjOqgR3rx7r"
      },
      "source": [
        "###  to Remove Duplicate entries\n",
        "     Example:-  group by all the other columns and take the max of the column you need. \n",
        "     df.groupby('A', as_index=False).max()"
      ]
    },
    {
      "cell_type": "code",
      "metadata": {
        "id": "X8Zo6mnNrx7r"
      },
      "source": [
        "Apex20BIS_2_A_marks_final = Apex20BIS_2_A_marks.groupby(['StudentName','ProgramCode','UID','Section','CourseCode','ExamType','CourseOutComeShortName','MaxMarks'], as_index=False)['Scale_to_40'].max()"
      ],
      "execution_count": 33,
      "outputs": []
    },
    {
      "cell_type": "markdown",
      "metadata": {
        "id": "THzVt0qwrx7s"
      },
      "source": [
        "### Column \"MarkObtd\" Renaming\n",
        "    # Rename the columns of df2_melted: df2_tidy\n",
        "    df2_tidy = df2_melted.rename(columns = {'variable': 'Year', 'value': 'Income'}, inplace = False)\n"
      ]
    },
    {
      "cell_type": "code",
      "metadata": {
        "id": "wh8xDmI1rx7t"
      },
      "source": [
        "Apex20BIS_2_A_marks_final = Apex20BIS_2_A_marks_final.rename(columns={'Scale_to_40':'MarkObtd'})"
      ],
      "execution_count": 34,
      "outputs": []
    },
    {
      "cell_type": "markdown",
      "metadata": {
        "id": "RfGl0Kzcrx7t"
      },
      "source": [
        "## Saving to File"
      ]
    },
    {
      "cell_type": "code",
      "metadata": {
        "id": "q6siRXl9rx7u"
      },
      "source": [
        "# dest_path = root_path +'Results_MST-1/'"
      ],
      "execution_count": null,
      "outputs": []
    },
    {
      "cell_type": "code",
      "metadata": {
        "colab": {
          "base_uri": "https://localhost:8080/"
        },
        "id": "05gcKnLk01pq",
        "outputId": "d9cf4a77-2fab-48dd-f632-22fb43ec703e"
      },
      "source": [
        "#cd '/content/drive/MyDrive/CU_Notebooks/MST-1'"
      ],
      "execution_count": 45,
      "outputs": [
        {
          "output_type": "stream",
          "name": "stdout",
          "text": [
            "/content/drive/MyDrive/CU_Notebooks/MST-1\n"
          ]
        }
      ]
    },
    {
      "cell_type": "code",
      "metadata": {
        "id": "3zbByaQCrx7u"
      },
      "source": [
        "Apex20BIS_2_A_marks_final.to_excel('/content/drive/MyDrive/CU_Notebooks/MST-1/Apex20BIS_2_A_marks_final.xlsx', index=False)"
      ],
      "execution_count": 46,
      "outputs": []
    },
    {
      "cell_type": "code",
      "metadata": {
        "id": "2jhPEvXSrx7v"
      },
      "source": [
        ""
      ],
      "execution_count": null,
      "outputs": []
    }
  ]
}